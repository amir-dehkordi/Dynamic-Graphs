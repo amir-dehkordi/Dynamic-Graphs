{
 "cells": [
  {
   "cell_type": "markdown",
   "metadata": {},
   "source": [
    "### Connect to the google drive"
   ]
  },
  {
   "cell_type": "code",
   "execution_count": 1,
   "metadata": {
    "colab": {
     "base_uri": "https://localhost:8080/"
    },
    "executionInfo": {
     "elapsed": 26993,
     "status": "ok",
     "timestamp": 1704009899016,
     "user": {
      "displayName": "Amir Mohamad Banisharif dehkordi",
      "userId": "17457589456402845478"
     },
     "user_tz": -210
    },
    "id": "7KpFJFW4REPT",
    "outputId": "55628eb6-1587-43b3-87ce-4f31bc83cf35"
   },
   "outputs": [
    {
     "name": "stdout",
     "output_type": "stream",
     "text": [
      "Mounted at /content/drive\n"
     ]
    }
   ],
   "source": [
    "import os, sys\n",
    "from google.colab import drive\n",
    "drive.mount(\"/content/drive\")"
   ]
  },
  {
   "cell_type": "markdown",
   "metadata": {},
   "source": [
    "### Save packages in Google Drive to speed up future code runs in Colab. "
   ]
  },
  {
   "cell_type": "code",
   "execution_count": 4,
   "metadata": {
    "executionInfo": {
     "elapsed": 415,
     "status": "ok",
     "timestamp": 1704009973062,
     "user": {
      "displayName": "Amir Mohamad Banisharif dehkordi",
      "userId": "17457589456402845478"
     },
     "user_tz": -210
    },
    "id": "p-DY90wGRSHJ"
   },
   "outputs": [],
   "source": [
    "nb_path = '/content/notebooks'\n",
    "os.symlink('/content/drive/My Drive/Colab Notebooks', nb_path)\n",
    "sys.path.insert(0,nb_path)\n",
    "!pip install --target=$nb_path torch-scatter -f https://pytorch-geometric.com/whl/torch-1.10.0+${CUDA}.html\n",
    "!pip install --target=$nb_path torch-sparse -f https://pytorch-geometric.com/whl/torch-1.10.0+${CUDA}.html\n",
    "!pip install --target=$nb_path torch-cluster -f https://pytorch-geometric.com/whl/torch-1.10.0+${CUDA}.html\n",
    "!pip install --target=$nb_path torch-spline-conv -f https://pytorch-geometric.com/whl/torch-1.10.0+${CUDA}.html\n",
    "!pip install --target=$nb_path torch-geometric\n",
    "!pip install --target=$nb_path torch-geometric-temporal"
   ]
  },
  {
   "cell_type": "markdown",
   "metadata": {},
   "source": [
    "### Reading saved packages in google drive"
   ]
  },
  {
   "cell_type": "code",
   "execution_count": 2,
   "metadata": {
    "colab": {
     "base_uri": "https://localhost:8080/"
    },
    "executionInfo": {
     "elapsed": 22386,
     "status": "ok",
     "timestamp": 1704011285805,
     "user": {
      "displayName": "Amir Mohamad Banisharif dehkordi",
      "userId": "17457589456402845478"
     },
     "user_tz": -210
    },
    "id": "w_DiYPcqfMbk",
    "outputId": "9acbfc40-96b7-4347-8b9e-da52df6e7b5d"
   },
   "outputs": [
    {
     "name": "stdout",
     "output_type": "stream",
     "text": [
      "Mounted at /content/drive\n"
     ]
    }
   ],
   "source": [
    "# Importing libraries\n",
    "from google.colab import drive\n",
    "import sys, os\n",
    "# Mount google drive\n",
    "drive.mount('/content/drive', force_remount=True)\n",
    "# Changing path dirctory\n",
    "sys.path.append('/content/drive/My Drive/Colab Notebooks')"
   ]
  },
  {
   "cell_type": "code",
   "execution_count": 3,
   "metadata": {
    "executionInfo": {
     "elapsed": 189484,
     "status": "ok",
     "timestamp": 1704011477174,
     "user": {
      "displayName": "Amir Mohamad Banisharif dehkordi",
      "userId": "17457589456402845478"
     },
     "user_tz": -210
    },
    "id": "A99fFVGaqcbx"
   },
   "outputs": [],
   "source": [
    "from datetime import datetime\n",
    "import geopy.distance\n",
    "import glob\n",
    "import numpy as np\n",
    "import os\n",
    "import pandas as pd\n",
    "import scipy.sparse as sp\n",
    "from sklearn.preprocessing import StandardScaler\n",
    "import torch\n",
    "import torch.nn as nn\n",
    "import torch.nn.functional as F\n",
    "from torch_geometric_temporal.nn import STConv\n",
    "from tqdm import tqdm"
   ]
  },
  {
   "cell_type": "code",
   "execution_count": 4,
   "metadata": {
    "executionInfo": {
     "elapsed": 533,
     "status": "ok",
     "timestamp": 1704011491206,
     "user": {
      "displayName": "Amir Mohamad Banisharif dehkordi",
      "userId": "17457589456402845478"
     },
     "user_tz": -210
    },
    "id": "Dz2ufF9kELA2"
   },
   "outputs": [],
   "source": [
    "class FullyConnLayer(nn.Module):\n",
    "    def __init__(self, c):\n",
    "        super(FullyConnLayer, self).__init__()\n",
    "        self.conv = nn.Conv2d(c, 1, 1)\n",
    "\n",
    "    def forward(self, x):\n",
    "        return self.conv(x)\n",
    "\n",
    "class OutputLayer(nn.Module):\n",
    "    def __init__(self, c, T, n):\n",
    "        super(OutputLayer, self).__init__()\n",
    "        self.tconv1 = nn.Conv2d(c, c, (T, 1), 1, dilation = 1, padding = (0,0))\n",
    "        self.ln = nn.LayerNorm([n, c])\n",
    "        self.tconv2 = nn.Conv2d(c, c, (1, 1), 1, dilation = 1, padding = (0,0))\n",
    "        self.fc = FullyConnLayer(c)\n",
    "\n",
    "    def forward(self, x):\n",
    "        x_t1 = self.tconv1(x)\n",
    "        x_ln = self.ln(x_t1.permute(0, 2, 3, 1)).permute(0, 3, 1, 2)\n",
    "        x_t2 = self.tconv2(x_ln)\n",
    "\n",
    "        return self.fc(x_t2)\n",
    "\n",
    "class TrafficModel(torch.nn.Module):\n",
    "    def __init__(self, device, num_nodes, channel_size_list, num_layers,\n",
    "                 kernel_size, K, window_size, \\\n",
    "                 normalization = 'sym', bias = True):\n",
    "\n",
    "        super(TrafficModel, self).__init__()\n",
    "        self.layers = nn.ModuleList([])\n",
    "        for l in range(num_layers):\n",
    "            input_size, hidden_size, output_size = \\\n",
    "            channel_size_list[l][0], channel_size_list[l][1], \\\n",
    "            channel_size_list[l][2]\n",
    "            self.layers.append(STConv(num_nodes, input_size, hidden_size, \\\n",
    "                                      output_size, kernel_size, K, \\\n",
    "                                      normalization, bias))\n",
    "        self.layers.append(OutputLayer(channel_size_list[-1][-1], \\\n",
    "                                       window_size - 2 * num_layers * (kernel_size - 1), \\\n",
    "                                       num_nodes))\n",
    "        for layer in self.layers:\n",
    "            layer = layer.to(device)\n",
    "\n",
    "    def forward(self, x, edge_index, edge_weight):\n",
    "        for layer in self.layers[:-1]:\n",
    "          x = layer(x, edge_index, edge_weight)\n",
    "        out_layer = self.layers[-1]\n",
    "        x = x.permute(0, 3, 1, 2)\n",
    "        x = out_layer(x)\n",
    "        return x"
   ]
  },
  {
   "cell_type": "code",
   "execution_count": 6,
   "metadata": {
    "executionInfo": {
     "elapsed": 12,
     "status": "ok",
     "timestamp": 1704011497407,
     "user": {
      "displayName": "Amir Mohamad Banisharif dehkordi",
      "userId": "17457589456402845478"
     },
     "user_tz": -210
    },
    "id": "onNMzOzBD945"
   },
   "outputs": [],
   "source": [
    "channels = np.array([[1, 4, 8], [8, 4, 8]])\n",
    "\n",
    "kernel_size = 3\n",
    "K = 3\n",
    "\n",
    "learning_rate = 0.01\n",
    "batch_size = 10\n",
    "num_epochs = 20\n",
    "num_layers = 1\n",
    "n_his = 20\n",
    "\n",
    "n_pred = 5\n",
    "\n",
    "train_prop = 0.7\n",
    "val_prop = 0.2\n",
    "test_prop = 0.1\n",
    "\n",
    "model_save_path = os.path.join(\n",
    "    'drive', 'MyDrive', 'best_model.pt')"
   ]
  },
  {
   "cell_type": "code",
   "execution_count": 7,
   "metadata": {
    "executionInfo": {
     "elapsed": 8,
     "status": "ok",
     "timestamp": 1704011501282,
     "user": {
      "displayName": "Amir Mohamad Banisharif dehkordi",
      "userId": "17457589456402845478"
     },
     "user_tz": -210
    },
    "id": "WUJjTMjbv-5g"
   },
   "outputs": [],
   "source": [
    "def data_transform(data, n_his, n_pred, device):\n",
    "\n",
    "    num_nodes = data.shape[1]\n",
    "    num_obs = len(data) - n_his - n_pred\n",
    "    x = np.zeros([num_obs, n_his, num_nodes, 1])\n",
    "    y = np.zeros([num_obs, num_nodes])\n",
    "\n",
    "    obs_idx = 0\n",
    "    for i in range(num_obs):\n",
    "        head = i\n",
    "        tail = i + n_his\n",
    "        x[obs_idx, :, :, :] = data[head: tail].reshape(n_his, num_nodes, 1)\n",
    "        y[obs_idx] = data[tail + n_pred - 1]\n",
    "        obs_idx += 1\n",
    "\n",
    "    return torch.Tensor(x).to(device), torch.Tensor(y).to(device)"
   ]
  },
  {
   "cell_type": "code",
   "execution_count": 8,
   "metadata": {
    "executionInfo": {
     "elapsed": 4993,
     "status": "ok",
     "timestamp": 1704011519078,
     "user": {
      "displayName": "Amir Mohamad Banisharif dehkordi",
      "userId": "17457589456402845478"
     },
     "user_tz": -210
    },
    "id": "4Akv_sm3WYdD"
   },
   "outputs": [],
   "source": [
    "weighted_adj_matrix_path = os.path.join('/content/drive/MyDrive/GBDS_Data_new/processed_data/distances.csv')\n",
    "W = pd.read_csv(weighted_adj_matrix_path).drop('station_id', axis=1)\n",
    "\n",
    "feature_vectors_path = os.path.join('/content/drive/MyDrive/GBDS_Data_new/processed_data/combined.csv')\n",
    "V = pd.read_csv(feature_vectors_path).drop('time', axis=1)"
   ]
  },
  {
   "cell_type": "code",
   "execution_count": 9,
   "metadata": {
    "executionInfo": {
     "elapsed": 5,
     "status": "ok",
     "timestamp": 1704011519079,
     "user": {
      "displayName": "Amir Mohamad Banisharif dehkordi",
      "userId": "17457589456402845478"
     },
     "user_tz": -210
    },
    "id": "4XhviIrI44FJ"
   },
   "outputs": [],
   "source": [
    "for pos, col in enumerate(W.columns):\n",
    "  if col != V.columns[pos]:\n",
    "    print(col, V.columns[pos])"
   ]
  },
  {
   "cell_type": "code",
   "execution_count": 10,
   "metadata": {
    "executionInfo": {
     "elapsed": 6,
     "status": "ok",
     "timestamp": 1704011520536,
     "user": {
      "displayName": "Amir Mohamad Banisharif dehkordi",
      "userId": "17457589456402845478"
     },
     "user_tz": -210
    },
    "id": "aUqAaFI8DIK7"
   },
   "outputs": [],
   "source": [
    "device = torch.device(\"cuda\") if torch.cuda.is_available() \\\n",
    "else torch.device(\"cpu\")"
   ]
  },
  {
   "cell_type": "code",
   "execution_count": 11,
   "metadata": {
    "executionInfo": {
     "elapsed": 1201,
     "status": "ok",
     "timestamp": 1704011522929,
     "user": {
      "displayName": "Amir Mohamad Banisharif dehkordi",
      "userId": "17457589456402845478"
     },
     "user_tz": -210
    },
    "id": "NblmTvYLDbq3"
   },
   "outputs": [],
   "source": [
    "num_samples, num_nodes = V.shape\n",
    "\n",
    "len_train = round(num_samples * train_prop)\n",
    "len_val = round(num_samples * val_prop)\n",
    "train = V[ : len_train]\n",
    "val = V[len_train : len_train + len_val]\n",
    "test = V[len_train + len_val : len_train + len_val + round(num_samples * test_prop)]\n",
    "\n",
    "scaler = StandardScaler()\n",
    "train = np.nan_to_num(scaler.fit_transform(train))\n",
    "val = np.nan_to_num(scaler.transform(val))\n",
    "test = np.nan_to_num(scaler.transform(test))\n",
    "\n",
    "x_train, y_train = data_transform(train, n_his, n_pred, device)\n",
    "x_val, y_val = data_transform(val, n_his, n_pred, device)\n",
    "x_test, y_test = data_transform(test, n_his, n_pred, device)\n",
    "\n",
    "train_data = torch.utils.data.TensorDataset(x_train, y_train)\n",
    "train_iter = torch.utils.data.DataLoader(train_data, batch_size, shuffle=True)\n",
    "val_data = torch.utils.data.TensorDataset(x_val, y_val)\n",
    "val_iter = torch.utils.data.DataLoader(val_data, batch_size)\n",
    "test_data = torch.utils.data.TensorDataset(x_test, y_test)\n",
    "test_iter = torch.utils.data.DataLoader(test_data, batch_size)\n",
    "\n",
    "G = sp.coo_matrix(W)\n",
    "edge_index = torch.tensor(np.array([G.row, G.col]), dtype=torch.int64).to(device)\n",
    "edge_weight = torch.tensor(G.data).float().to(device)"
   ]
  },
  {
   "cell_type": "code",
   "execution_count": 12,
   "metadata": {
    "executionInfo": {
     "elapsed": 4,
     "status": "ok",
     "timestamp": 1704011522930,
     "user": {
      "displayName": "Amir Mohamad Banisharif dehkordi",
      "userId": "17457589456402845478"
     },
     "user_tz": -210
    },
    "id": "lkdv-q9LSd46"
   },
   "outputs": [],
   "source": [
    "model = TrafficModel(device, num_nodes, channels, num_layers, kernel_size, K, \\\n",
    "                     n_his, normalization = 'sym', bias = True).to(device)\n",
    "\n",
    "loss = nn.MSELoss()\n",
    "optimizer = torch.optim.Adam(model.parameters(), lr = learning_rate)"
   ]
  },
  {
   "cell_type": "code",
   "execution_count": 13,
   "metadata": {
    "executionInfo": {
     "elapsed": 3,
     "status": "ok",
     "timestamp": 1704011522930,
     "user": {
      "displayName": "Amir Mohamad Banisharif dehkordi",
      "userId": "17457589456402845478"
     },
     "user_tz": -210
    },
    "id": "f4Ul3IuwVxze"
   },
   "outputs": [],
   "source": [
    "def evaluate_model(model, loss, data_iter, edge_index, edge_weight, device):\n",
    "  model.eval()\n",
    "  l_sum, n = 0.0, 0\n",
    "  with torch.no_grad():\n",
    "      for x, y in data_iter:\n",
    "          y_pred = model(x.to(device), edge_index, edge_weight).view(len(x), -1)\n",
    "          l = loss(y_pred, y)\n",
    "          l_sum += l.item() * y.shape[0]\n",
    "          n += y.shape[0]\n",
    "      return l_sum / n\n",
    "\n",
    "def evaluate_metric(model, data_iter, scaler, edge_index, edge_weight, device):\n",
    "    model.eval()\n",
    "    epsilon = 1e-6\n",
    "    with torch.no_grad():\n",
    "        mae, mape, mse = [], [], []\n",
    "        for x, y in data_iter:\n",
    "            y = scaler.inverse_transform(y.cpu().numpy()).reshape(-1)\n",
    "            y_pred = scaler.inverse_transform(model(x.to(device), \\\n",
    "                                                    edge_index, \\\n",
    "                                                    edge_weight).view(len(x), -1).cpu().numpy()).reshape(-1)\n",
    "            d = np.abs(y - y_pred)\n",
    "            mae += d.tolist()\n",
    "            mape += (d / (y+epsilon)).tolist()\n",
    "            mse += (d ** 2).tolist()\n",
    "        MAE = np.array(mae).mean()\n",
    "        MAPE = np.array(mape).mean()\n",
    "        RMSE = np.sqrt(np.array(mse).mean())\n",
    "        return MAE, MAPE, RMSE"
   ]
  },
  {
   "cell_type": "code",
   "execution_count": 14,
   "metadata": {
    "colab": {
     "base_uri": "https://localhost:8080/"
    },
    "executionInfo": {
     "elapsed": 5512242,
     "status": "ok",
     "timestamp": 1704017043291,
     "user": {
      "displayName": "Amir Mohamad Banisharif dehkordi",
      "userId": "17457589456402845478"
     },
     "user_tz": -210
    },
    "id": "gPq8wtlxSvtA",
    "outputId": "b9e6f3c9-dad9-4b99-8771-8735312c299d"
   },
   "outputs": [
    {
     "name": "stderr",
     "output_type": "stream",
     "text": [
      "Batch: 100%|██████████| 99/99 [03:53<00:00,  2.36s/it]\n",
      "Epoch:   5%|▌         | 1/20 [04:37<1:27:47, 277.23s/it]"
     ]
    },
    {
     "name": "stdout",
     "output_type": "stream",
     "text": [
      "epoch 1 , train loss: 0.885272982707465 , validation loss: 1.100475556383568\n"
     ]
    },
    {
     "name": "stderr",
     "output_type": "stream",
     "text": [
      "Batch: 100%|██████████| 99/99 [03:52<00:00,  2.35s/it]\n",
      "Epoch:  10%|█         | 2/20 [09:12<1:22:54, 276.34s/it]"
     ]
    },
    {
     "name": "stdout",
     "output_type": "stream",
     "text": [
      "epoch 2 , train loss: 0.8075168418071762 , validation loss: 1.0856938211410219\n"
     ]
    },
    {
     "name": "stderr",
     "output_type": "stream",
     "text": [
      "Batch: 100%|██████████| 99/99 [03:52<00:00,  2.35s/it]\n",
      "Epoch:  15%|█▌        | 3/20 [13:48<1:18:11, 275.98s/it]"
     ]
    },
    {
     "name": "stdout",
     "output_type": "stream",
     "text": [
      "epoch 3 , train loss: 0.7800958882391998 , validation loss: 1.053093674574968\n"
     ]
    },
    {
     "name": "stderr",
     "output_type": "stream",
     "text": [
      "Batch: 100%|██████████| 99/99 [03:52<00:00,  2.35s/it]\n",
      "Epoch:  20%|██        | 4/20 [18:24<1:13:34, 275.88s/it]"
     ]
    },
    {
     "name": "stdout",
     "output_type": "stream",
     "text": [
      "epoch 4 , train loss: 0.770401157052204 , validation loss: 1.0530492713242883\n"
     ]
    },
    {
     "name": "stderr",
     "output_type": "stream",
     "text": [
      "Batch: 100%|██████████| 99/99 [03:52<00:00,  2.35s/it]\n",
      "Epoch:  25%|██▌       | 5/20 [22:59<1:08:55, 275.71s/it]"
     ]
    },
    {
     "name": "stdout",
     "output_type": "stream",
     "text": [
      "epoch 5 , train loss: 0.7566852907925875 , validation loss: 1.028607704000328\n"
     ]
    },
    {
     "name": "stderr",
     "output_type": "stream",
     "text": [
      "Batch: 100%|██████████| 99/99 [03:52<00:00,  2.35s/it]\n",
      "Epoch:  30%|███       | 6/20 [27:35<1:04:19, 275.65s/it]"
     ]
    },
    {
     "name": "stdout",
     "output_type": "stream",
     "text": [
      "epoch 6 , train loss: 0.7544601373488153 , validation loss: 1.0367127727759655\n"
     ]
    },
    {
     "name": "stderr",
     "output_type": "stream",
     "text": [
      "Batch: 100%|██████████| 99/99 [03:52<00:00,  2.35s/it]\n",
      "Epoch:  35%|███▌      | 7/20 [32:10<59:42, 275.60s/it]  "
     ]
    },
    {
     "name": "stdout",
     "output_type": "stream",
     "text": [
      "epoch 7 , train loss: 0.7507930854572284 , validation loss: 1.014890693269755\n"
     ]
    },
    {
     "name": "stderr",
     "output_type": "stream",
     "text": [
      "Batch: 100%|██████████| 99/99 [03:52<00:00,  2.35s/it]\n",
      "Epoch:  40%|████      | 8/20 [36:45<55:06, 275.50s/it]"
     ]
    },
    {
     "name": "stdout",
     "output_type": "stream",
     "text": [
      "epoch 8 , train loss: 0.7524482244028807 , validation loss: 1.0384847084379014\n"
     ]
    },
    {
     "name": "stderr",
     "output_type": "stream",
     "text": [
      "Batch: 100%|██████████| 99/99 [03:52<00:00,  2.35s/it]\n",
      "Epoch:  45%|████▌     | 9/20 [41:21<50:30, 275.49s/it]"
     ]
    },
    {
     "name": "stdout",
     "output_type": "stream",
     "text": [
      "epoch 9 , train loss: 0.7464503644684203 , validation loss: 1.0222962482800502\n"
     ]
    },
    {
     "name": "stderr",
     "output_type": "stream",
     "text": [
      "Batch: 100%|██████████| 99/99 [03:52<00:00,  2.35s/it]\n",
      "Epoch:  50%|█████     | 10/20 [45:56<45:54, 275.42s/it]"
     ]
    },
    {
     "name": "stdout",
     "output_type": "stream",
     "text": [
      "epoch 10 , train loss: 0.7422234529396282 , validation loss: 1.0226255510243172\n"
     ]
    },
    {
     "name": "stderr",
     "output_type": "stream",
     "text": [
      "Batch: 100%|██████████| 99/99 [03:52<00:00,  2.35s/it]\n",
      "Epoch:  55%|█████▌    | 11/20 [50:32<41:20, 275.56s/it]"
     ]
    },
    {
     "name": "stdout",
     "output_type": "stream",
     "text": [
      "epoch 11 , train loss: 0.7424393937158439 , validation loss: 0.9998890423276126\n"
     ]
    },
    {
     "name": "stderr",
     "output_type": "stream",
     "text": [
      "Batch: 100%|██████████| 99/99 [03:52<00:00,  2.35s/it]\n",
      "Epoch:  60%|██████    | 12/20 [55:07<36:44, 275.52s/it]"
     ]
    },
    {
     "name": "stdout",
     "output_type": "stream",
     "text": [
      "epoch 12 , train loss: 0.740083858476893 , validation loss: 1.0230504132722267\n"
     ]
    },
    {
     "name": "stderr",
     "output_type": "stream",
     "text": [
      "Batch: 100%|██████████| 99/99 [03:52<00:00,  2.35s/it]\n",
      "Epoch:  65%|██████▌   | 13/20 [59:43<32:08, 275.52s/it]"
     ]
    },
    {
     "name": "stdout",
     "output_type": "stream",
     "text": [
      "epoch 13 , train loss: 0.733944718617025 , validation loss: 1.0124224834569053\n"
     ]
    },
    {
     "name": "stderr",
     "output_type": "stream",
     "text": [
      "Batch: 100%|██████████| 99/99 [03:52<00:00,  2.35s/it]\n",
      "Epoch:  70%|███████   | 14/20 [1:04:18<27:32, 275.46s/it]"
     ]
    },
    {
     "name": "stdout",
     "output_type": "stream",
     "text": [
      "epoch 14 , train loss: 0.7343367728369646 , validation loss: 0.9857979808923409\n"
     ]
    },
    {
     "name": "stderr",
     "output_type": "stream",
     "text": [
      "Batch: 100%|██████████| 99/99 [03:52<00:00,  2.35s/it]\n",
      "Epoch:  75%|███████▌  | 15/20 [1:08:54<22:57, 275.41s/it]"
     ]
    },
    {
     "name": "stdout",
     "output_type": "stream",
     "text": [
      "epoch 15 , train loss: 0.7326363973008774 , validation loss: 1.0020054449033375\n"
     ]
    },
    {
     "name": "stderr",
     "output_type": "stream",
     "text": [
      "Batch: 100%|██████████| 99/99 [03:52<00:00,  2.35s/it]\n",
      "Epoch:  80%|████████  | 16/20 [1:13:29<18:21, 275.48s/it]"
     ]
    },
    {
     "name": "stdout",
     "output_type": "stream",
     "text": [
      "epoch 16 , train loss: 0.7323496614564835 , validation loss: 0.9865458669997893\n"
     ]
    },
    {
     "name": "stderr",
     "output_type": "stream",
     "text": [
      "Batch: 100%|██████████| 99/99 [03:52<00:00,  2.35s/it]\n",
      "Epoch:  85%|████████▌ | 17/20 [1:18:05<13:46, 275.45s/it]"
     ]
    },
    {
     "name": "stdout",
     "output_type": "stream",
     "text": [
      "epoch 17 , train loss: 0.7278835949007638 , validation loss: 1.0049608758873814\n"
     ]
    },
    {
     "name": "stderr",
     "output_type": "stream",
     "text": [
      "Batch: 100%|██████████| 99/99 [03:52<00:00,  2.35s/it]\n",
      "Epoch:  90%|█████████ | 18/20 [1:22:40<09:11, 275.53s/it]"
     ]
    },
    {
     "name": "stdout",
     "output_type": "stream",
     "text": [
      "epoch 18 , train loss: 0.7292744086208324 , validation loss: 0.968180794396328\n"
     ]
    },
    {
     "name": "stderr",
     "output_type": "stream",
     "text": [
      "Batch: 100%|██████████| 99/99 [03:52<00:00,  2.35s/it]\n",
      "Epoch:  95%|█████████▌| 19/20 [1:27:16<04:35, 275.48s/it]"
     ]
    },
    {
     "name": "stdout",
     "output_type": "stream",
     "text": [
      "epoch 19 , train loss: 0.7287225251522821 , validation loss: 0.9716264882015184\n"
     ]
    },
    {
     "name": "stderr",
     "output_type": "stream",
     "text": [
      "Batch: 100%|██████████| 99/99 [03:52<00:00,  2.35s/it]\n",
      "Epoch: 100%|██████████| 20/20 [1:31:51<00:00, 275.58s/it]"
     ]
    },
    {
     "name": "stdout",
     "output_type": "stream",
     "text": [
      "epoch 20 , train loss: 0.7278472162093418 , validation loss: 0.9785321402459091\n"
     ]
    },
    {
     "name": "stderr",
     "output_type": "stream",
     "text": [
      "\n"
     ]
    }
   ],
   "source": [
    "min_val_loss = np.inf\n",
    "for epoch in tqdm(range(1, num_epochs + 1), desc = 'Epoch', position = 0):\n",
    "  l_sum, n = 0.0, 0\n",
    "\n",
    "  model.train()\n",
    "\n",
    "  for x, y in tqdm(train_iter, desc = 'Batch', position = 0):\n",
    "\n",
    "    y_pred = model(x.to(device), edge_index, edge_weight).view(len(x), -1)\n",
    "    l = loss(y_pred, y)\n",
    "\n",
    "    optimizer.zero_grad()\n",
    "    l.backward()\n",
    "    optimizer.step()\n",
    "\n",
    "    l_sum += l.item() * y.shape[0]\n",
    "    n += y.shape[0]\n",
    "\n",
    "  val_loss = evaluate_model(model, loss, val_iter, edge_index, edge_weight, device)\n",
    "  if val_loss < min_val_loss:\n",
    "      min_val_loss = val_loss\n",
    "      torch.save(model.state_dict(), model_save_path)\n",
    "  print(\"epoch\", epoch, \", train loss:\", l_sum / n, \", validation loss:\", val_loss)"
   ]
  },
  {
   "cell_type": "code",
   "execution_count": 15,
   "metadata": {
    "colab": {
     "base_uri": "https://localhost:8080/"
    },
    "executionInfo": {
     "elapsed": 38768,
     "status": "ok",
     "timestamp": 1704017607609,
     "user": {
      "displayName": "Amir Mohamad Banisharif dehkordi",
      "userId": "17457589456402845478"
     },
     "user_tz": -210
    },
    "id": "gHo-zEsJYVOk",
    "outputId": "d70b436c-34a5-45a5-a2b7-250609d66ea9"
   },
   "outputs": [
    {
     "name": "stdout",
     "output_type": "stream",
     "text": [
      "test loss: 1.1974361959625692 \n",
      "MAE: 1.6890731541187558 , MAPE: 323013.805631974 , RMSE: 2.9795492169340374\n"
     ]
    }
   ],
   "source": [
    "best_model = TrafficModel(device, num_nodes, channels, num_layers, kernel_size, K, \\\n",
    "                     n_his, normalization = 'sym', bias = True).to(device)\n",
    "best_model.load_state_dict(torch.load(model_save_path))\n",
    "\n",
    "l = evaluate_model(best_model, loss, test_iter, edge_index, edge_weight, device)\n",
    "MAE, MAPE, RMSE = evaluate_metric(best_model, test_iter, scaler, edge_index, edge_weight, device)\n",
    "print(\"test loss:\", l, \"\\nMAE:\", MAE, \", MAPE:\", MAPE, \", RMSE:\", RMSE)"
   ]
  },
  {
   "cell_type": "code",
   "execution_count": 16,
   "metadata": {
    "executionInfo": {
     "elapsed": 401,
     "status": "ok",
     "timestamp": 1704017661369,
     "user": {
      "displayName": "Amir Mohamad Banisharif dehkordi",
      "userId": "17457589456402845478"
     },
     "user_tz": -210
    },
    "id": "N4SC7CK8aTtO"
   },
   "outputs": [],
   "source": [
    "predict_model = best_model\n",
    "\n",
    "pred_save_path = os.path.join(\n",
    "    'drive', 'MyDrive',  'predictions_testing.csv')"
   ]
  },
  {
   "cell_type": "code",
   "execution_count": 17,
   "metadata": {
    "executionInfo": {
     "elapsed": 418,
     "status": "ok",
     "timestamp": 1704017667702,
     "user": {
      "displayName": "Amir Mohamad Banisharif dehkordi",
      "userId": "17457589456402845478"
     },
     "user_tz": -210
    },
    "id": "CmnnzUV3ZRqC"
   },
   "outputs": [],
   "source": [
    "def get_predictions(model, pred_iter, scaler, edge_index, edge_weight, num_nodes, device):\n",
    "    model.eval()\n",
    "    with torch.no_grad():\n",
    "      for x, y in pred_iter:\n",
    "        y = scaler.inverse_transform(y.cpu().numpy()).reshape(-1)\n",
    "        y_pred = scaler.inverse_transform(model(x.to(device), \\\n",
    "                                                edge_index, \\\n",
    "                                                edge_weight).view(len(x), -1).cpu().numpy()).reshape(-1)\n",
    "        y_pred = y_pred.reshape(-1, num_nodes)\n",
    "\n",
    "      return y, y_pred"
   ]
  },
  {
   "cell_type": "code",
   "execution_count": 18,
   "metadata": {
    "executionInfo": {
     "elapsed": 24477,
     "status": "ok",
     "timestamp": 1704017706937,
     "user": {
      "displayName": "Amir Mohamad Banisharif dehkordi",
      "userId": "17457589456402845478"
     },
     "user_tz": -210
    },
    "id": "Vz5RLLkYZhP0"
   },
   "outputs": [],
   "source": [
    "pred_len = 144\n",
    "\n",
    "pred_set = V[(-pred_len - n_his - n_pred):]\n",
    "pred_set = np.nan_to_num(scaler.transform(pred_set))\n",
    "x_pred, y_pred = data_transform(pred_set, n_his, n_pred, device)\n",
    "pred_data = torch.utils.data.TensorDataset(x_pred, y_pred)\n",
    "pred_iter = torch.utils.data.DataLoader(pred_data, pred_len + n_his + n_pred + 1)\n",
    "\n",
    "predictions = get_predictions(predict_model, pred_iter, scaler, edge_index, edge_weight, 1836, device)\n",
    "np.savetxt(pred_save_path, predictions[1], delimiter=',')"
   ]
  },
  {
   "cell_type": "code",
   "execution_count": 19,
   "metadata": {
    "executionInfo": {
     "elapsed": 19,
     "status": "ok",
     "timestamp": 1704017706938,
     "user": {
      "displayName": "Amir Mohamad Banisharif dehkordi",
      "userId": "17457589456402845478"
     },
     "user_tz": -210
    },
    "id": "imlvNe4wmsuD"
   },
   "outputs": [],
   "source": [
    "import seaborn as sns\n",
    "import matplotlib.pyplot as plt\n",
    "plt.rcParams[\"figure.figsize\"] = (15,10)"
   ]
  },
  {
   "cell_type": "code",
   "execution_count": 20,
   "metadata": {
    "colab": {
     "base_uri": "https://localhost:8080/",
     "height": 689
    },
    "executionInfo": {
     "elapsed": 1027,
     "status": "ok",
     "timestamp": 1704017707947,
     "user": {
      "displayName": "Amir Mohamad Banisharif dehkordi",
      "userId": "17457589456402845478"
     },
     "user_tz": -210
    },
    "id": "ovqpIqHgrGRw",
    "outputId": "ab22e1a3-dd22-4a51-dbb8-c82aa2639b95",
    "scrolled": true
   },
   "outputs": [
    {
     "data": {
      "image/png": "[encoded data removed]",
      "text/plain": [
       "<Figure size 1500x1000 with 1 Axes>"
      ]
     },
     "metadata": {},
     "output_type": "display_data"
    }
   ],
   "source": [
    "test_preds = pd.read_csv(pred_save_path, header=None)\n",
    "test_truth = V[(-pred_len-2):-2]\n",
    "summed_test_truth  = test_truth.mean(axis=1)\n",
    "summed_test_preds = test_preds.mean(axis=1)\n",
    "sns.lineplot(y=summed_test_truth, x=range(len(summed_test_preds)))\n",
    "sns.lineplot(y=summed_test_preds, x=range(len(summed_test_preds)))\n",
    "plt.legend(labels=['Ground Truth', 'Prediction']);"
   ]
  },
  {
   "cell_type": "code",
   "execution_count": 21,
   "metadata": {
    "colab": {
     "base_uri": "https://localhost:8080/",
     "height": 673
    },
    "executionInfo": {
     "elapsed": 800,
     "status": "ok",
     "timestamp": 1704017708737,
     "user": {
      "displayName": "Amir Mohamad Banisharif dehkordi",
      "userId": "17457589456402845478"
     },
     "user_tz": -210
    },
    "id": "TiFHgFO_mkiA",
    "outputId": "b13f50c5-c7f9-4583-c056-3a402163ff33"
   },
   "outputs": [
    {
     "data": {
      "image/png": "[encoded data removed]",
      "text/plain": [
       "<Figure size 1500x1000 with 1 Axes>"
      ]
     },
     "metadata": {},
     "output_type": "display_data"
    }
   ],
   "source": [
    "test_preds = pd.read_csv(pred_save_path, header=None)\n",
    "test_truth = V[(-pred_len-2):-2]\n",
    "summed_test_truth  = test_truth.mean(axis=1)\n",
    "summed_test_preds = test_preds.mean(axis=1)\n",
    "sns.histplot(summed_test_truth)\n",
    "sns.histplot(summed_test_preds, color=sns.color_palette()[1])\n",
    "plt.legend(labels=['Ground Truth', 'Prediction']);"
   ]
  },
  {
   "cell_type": "code",
   "execution_count": 22,
   "metadata": {
    "colab": {
     "base_uri": "https://localhost:8080/",
     "height": 670
    },
    "executionInfo": {
     "elapsed": 22,
     "status": "ok",
     "timestamp": 1704017708737,
     "user": {
      "displayName": "Amir Mohamad Banisharif dehkordi",
      "userId": "17457589456402845478"
     },
     "user_tz": -210
    },
    "id": "II2FcTOhxAH-",
    "outputId": "42c89a8e-5b49-4450-9f46-6bd2a1ad0cc3"
   },
   "outputs": [
    {
     "data": {
      "image/png": "[encoded data removed]",
      "text/plain": [
       "<Figure size 1500x1000 with 1 Axes>"
      ]
     },
     "metadata": {},
     "output_type": "display_data"
    }
   ],
   "source": [
    "test_preds = pd.read_csv(pred_save_path, header=None)\n",
    "test_truth = V[(-pred_len-2):-2]\n",
    "summed_test_truth  = test_truth.mean(axis=0)\n",
    "summed_test_preds = test_preds.mean(axis=0)\n",
    "sns.histplot(summed_test_truth)\n",
    "sns.histplot(summed_test_preds, color=sns.color_palette()[1])\n",
    "plt.legend(labels=['Ground Truth', 'Prediction']);"
   ]
  }
 ],
 "metadata": {
  "accelerator": "GPU",
  "colab": {
   "gpuType": "T4",
   "provenance": []
  },
  "kernelspec": {
   "display_name": "Python 3 (ipykernel)",
   "language": "python",
   "name": "python3"
  },
  "language_info": {
   "codemirror_mode": {
    "name": "ipython",
    "version": 3
   },
   "file_extension": ".py",
   "mimetype": "text/x-python",
   "name": "python",
   "nbconvert_exporter": "python",
   "pygments_lexer": "ipython3",
   "version": "3.11.3"
  }
 },
 "nbformat": 4,
 "nbformat_minor": 1
}
